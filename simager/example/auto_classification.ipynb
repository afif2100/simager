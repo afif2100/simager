{
 "cells": [
  {
   "cell_type": "markdown",
   "metadata": {},
   "source": [
    "## Import Module"
   ]
  },
  {
   "cell_type": "code",
   "execution_count": 13,
   "metadata": {},
   "outputs": [],
   "source": [
    "import pandas as pd\n",
    "from simager.ml import ConfigData, ConfigPreprocess, ConfigModel, AutoClassifier, load_model"
   ]
  },
  {
   "cell_type": "markdown",
   "metadata": {},
   "source": [
    "## Import Data"
   ]
  },
  {
   "cell_type": "code",
   "execution_count": 2,
   "metadata": {},
   "outputs": [
    {
     "data": {
      "text/html": [
       "<div>\n",
       "<style scoped>\n",
       "    .dataframe tbody tr th:only-of-type {\n",
       "        vertical-align: middle;\n",
       "    }\n",
       "\n",
       "    .dataframe tbody tr th {\n",
       "        vertical-align: top;\n",
       "    }\n",
       "\n",
       "    .dataframe thead th {\n",
       "        text-align: right;\n",
       "    }\n",
       "</style>\n",
       "<table border=\"1\" class=\"dataframe\">\n",
       "  <thead>\n",
       "    <tr style=\"text-align: right;\">\n",
       "      <th></th>\n",
       "      <th>sex</th>\n",
       "      <th>chest_pain_type</th>\n",
       "      <th>exercise_induced_angina</th>\n",
       "      <th>st_slope</th>\n",
       "      <th>thalassemia</th>\n",
       "      <th>max_heart_rate_achieved</th>\n",
       "      <th>st_depression</th>\n",
       "      <th>num_major_vessels</th>\n",
       "      <th>target</th>\n",
       "    </tr>\n",
       "  </thead>\n",
       "  <tbody>\n",
       "    <tr>\n",
       "      <th>0</th>\n",
       "      <td>male</td>\n",
       "      <td>asymptomatic</td>\n",
       "      <td>no</td>\n",
       "      <td>upsloping</td>\n",
       "      <td>normal</td>\n",
       "      <td>150</td>\n",
       "      <td>2.3</td>\n",
       "      <td>0</td>\n",
       "      <td>Heart Disease</td>\n",
       "    </tr>\n",
       "    <tr>\n",
       "      <th>1</th>\n",
       "      <td>male</td>\n",
       "      <td>non-anginal pain</td>\n",
       "      <td>no</td>\n",
       "      <td>upsloping</td>\n",
       "      <td>fixed defect</td>\n",
       "      <td>187</td>\n",
       "      <td>3.5</td>\n",
       "      <td>0</td>\n",
       "      <td>Heart Disease</td>\n",
       "    </tr>\n",
       "    <tr>\n",
       "      <th>2</th>\n",
       "      <td>female</td>\n",
       "      <td>atypical angina</td>\n",
       "      <td>no</td>\n",
       "      <td>downsloping</td>\n",
       "      <td>fixed defect</td>\n",
       "      <td>172</td>\n",
       "      <td>1.4</td>\n",
       "      <td>0</td>\n",
       "      <td>Heart Disease</td>\n",
       "    </tr>\n",
       "    <tr>\n",
       "      <th>3</th>\n",
       "      <td>male</td>\n",
       "      <td>atypical angina</td>\n",
       "      <td>no</td>\n",
       "      <td>downsloping</td>\n",
       "      <td>fixed defect</td>\n",
       "      <td>178</td>\n",
       "      <td>0.8</td>\n",
       "      <td>0</td>\n",
       "      <td>Heart Disease</td>\n",
       "    </tr>\n",
       "    <tr>\n",
       "      <th>4</th>\n",
       "      <td>female</td>\n",
       "      <td>typical angina</td>\n",
       "      <td>yes</td>\n",
       "      <td>downsloping</td>\n",
       "      <td>fixed defect</td>\n",
       "      <td>163</td>\n",
       "      <td>0.6</td>\n",
       "      <td>0</td>\n",
       "      <td>Heart Disease</td>\n",
       "    </tr>\n",
       "  </tbody>\n",
       "</table>\n",
       "</div>"
      ],
      "text/plain": [
       "      sex   chest_pain_type exercise_induced_angina     st_slope  \\\n",
       "0    male      asymptomatic                      no    upsloping   \n",
       "1    male  non-anginal pain                      no    upsloping   \n",
       "2  female   atypical angina                      no  downsloping   \n",
       "3    male   atypical angina                      no  downsloping   \n",
       "4  female    typical angina                     yes  downsloping   \n",
       "\n",
       "    thalassemia  max_heart_rate_achieved  st_depression  num_major_vessels  \\\n",
       "0        normal                      150            2.3                  0   \n",
       "1  fixed defect                      187            3.5                  0   \n",
       "2  fixed defect                      172            1.4                  0   \n",
       "3  fixed defect                      178            0.8                  0   \n",
       "4  fixed defect                      163            0.6                  0   \n",
       "\n",
       "          target  \n",
       "0  Heart Disease  \n",
       "1  Heart Disease  \n",
       "2  Heart Disease  \n",
       "3  Heart Disease  \n",
       "4  Heart Disease  "
      ]
     },
     "execution_count": 2,
     "metadata": {},
     "output_type": "execute_result"
    }
   ],
   "source": [
    "df = pd.read_csv(\"../data/heart_disease.csv\", index_col=False)\n",
    "df.head()\n",
    "# df = df[['chest_pain_type','exercise_induced_angina', 'st_slope','thalassemia','max_heart_rate_achieved','st_depression', 'num_major_vessels','target']]"
   ]
  },
  {
   "cell_type": "markdown",
   "metadata": {},
   "source": [
    "## ML Configuration"
   ]
  },
  {
   "cell_type": "code",
   "execution_count": 3,
   "metadata": {},
   "outputs": [],
   "source": [
    "# DATA CONFIGURATION\n",
    "\n",
    "config_data = ConfigData(\n",
    "    target=\"target\",\n",
    "    cat_features = ['sex','chest_pain_type','exercise_induced_angina', 'st_slope','thalassemia'],\n",
    "    num_features = ['max_heart_rate_achieved','st_depression', 'num_major_vessels'],\n",
    "    test_size = 0.2,\n",
    "    random_state = 42\n",
    ")\n",
    "#     Args:\n",
    "#         target (str, required): Name of the target column\n",
    "#         cat_features (list, required): Column names of the categorical fields. Defaults to []\n",
    "#         num_features (list, required): Column names of the numerical fields. Defaults to []\n",
    "#         test_size (float, optional): Number of test size when spliting the data. Defaults to 0.2\n",
    "#         random_state (int, optional): The random state that you provide is used as a seed to the random number generator. Defaults to 42"
   ]
  },
  {
   "cell_type": "code",
   "execution_count": 4,
   "metadata": {},
   "outputs": [],
   "source": [
    "# PREPROCESSING CONFIGURATION\n",
    "\n",
    "config_preprocess = ConfigPreprocess(\n",
    "    cat_imputer=\"SimpleImputer\", \n",
    "    num_imputer=\"SimpleImputer\",\n",
    "    scaler=\"RobustScaler\",\n",
    "    encoder=\"OneHotEncoder\",\n",
    "#     resample=\"oversampling\"\n",
    ")\n",
    "\n",
    "# Args:\n",
    "#     cat_imputer (str, optional): Imputation method for categorical fields. Defaults to None\n",
    "#         you can only provide: `None` `SimpleImputer` method\n",
    "\n",
    "#     num_imputer (str, optional): Imputation method for numerical fields. Defaults to None\n",
    "#         you can choose: `None` `SimpleImputer` `KNNImputer`method\n",
    "\n",
    "#     scaler (str, optional): Standardize a dataset along any axis. Defaults to None\n",
    "#         you can choose: `None` `StandardScaler` `MinMaxScaler` `RobustScaler` `QuantileTransformer` `PowerTransformer` `Normalizer`\n",
    "\n",
    "#     encoder (str, optional): Encoder method for categorical fields. Defaults to None\n",
    "#         you can choose: `None` `OrdinalEncoder` `OneHotEncoder`\n",
    "\n",
    "#     resample (str, optional): resampling method for handling unbalance data. Defaults to None\n",
    "#         you can choose: `None` `oversampling` by SMOTE `undersampling` by AllKNN"
   ]
  },
  {
   "cell_type": "code",
   "execution_count": 5,
   "metadata": {},
   "outputs": [],
   "source": [
    "config_model=ConfigModel(\n",
    "    algorithm=[\n",
    "    \"DecisionTreeClassifier\",\n",
    "    \"KNeighborsClassifier\",\n",
    "    \"LogisticRegression\",\n",
    "    \"SVC\",\n",
    "    \"RandomForestClassifier\",\n",
    "    \"AdaBoostClassifier\",\n",
    "    \"XGBClassifier\",\n",
    "    \"LGBMClassifier\",\n",
    "    \"CatBoostClassifier\"\n",
    "    ],\n",
    "    metrics=\"accuracy\"\n",
    ")\n",
    "\n",
    "# Args:\n",
    "#     algorithm (list, optional): Machine learning algorithm that you want to compare.\n",
    "#         If not provide, this will be execute all algorithm\n",
    "#         Available algorithms:\n",
    "#             DecisionTreeClassifier\n",
    "#             KNeighborsClassifier\n",
    "#             LogisticRegression\n",
    "#             SVC\n",
    "#             RandomForestClassifier\n",
    "#             AdaBoostClassifier\n",
    "#             XGBClassifier\n",
    "#             LGBMClassifier\n",
    "#             CatBoostClassifier\n",
    "\n",
    "#     metrics (str, optional): Evaluation metrics from the models. Default to `accuracy`\n",
    "#         you can choose:\n",
    "#             accuracy\n",
    "#             precision\n",
    "#             recall\n",
    "#             f1\n"
   ]
  },
  {
   "cell_type": "code",
   "execution_count": 6,
   "metadata": {},
   "outputs": [],
   "source": [
    "model = AutoClassifier(\n",
    "    config_data = config_data,\n",
    "    config_preprocess=config_preprocess,\n",
    "    config_model=config_model\n",
    ")"
   ]
  },
  {
   "cell_type": "markdown",
   "metadata": {},
   "source": [
    "## Fit Model"
   ]
  },
  {
   "cell_type": "code",
   "execution_count": 7,
   "metadata": {},
   "outputs": [
    {
     "name": "stderr",
     "output_type": "stream",
     "text": [
      "2022-01-01 14:39:46,602 - ==================\n",
      "2022-01-01 14:39:46,629 - DecisionTreeClassifier - accuracy: 0.711864406779661\n",
      "2022-01-01 14:39:46,659 - KNeighborsClassifier - accuracy: 0.7966101694915254\n",
      "2022-01-01 14:39:46,692 - LogisticRegression - accuracy: 0.8135593220338984\n",
      "2022-01-01 14:39:46,722 - SVC - accuracy: 0.847457627118644\n",
      "2022-01-01 14:39:46,880 - RandomForestClassifier - accuracy: 0.7627118644067796\n",
      "2022-01-01 14:39:46,979 - AdaBoostClassifier - accuracy: 0.7796610169491526\n",
      "/opt/anaconda3/envs/tikbot/lib/python3.7/site-packages/xgboost/sklearn.py:888: UserWarning: The use of label encoder in XGBClassifier is deprecated and will be removed in a future release. To remove this warning, do the following: 1) Pass option use_label_encoder=False when constructing XGBClassifier object; and 2) Encode your labels (y) as integers starting with 0, i.e. 0, 1, 2, ..., [num_class - 1].\n",
      "  warnings.warn(label_encoder_deprecation_msg, UserWarning)\n",
      "2022-01-01 14:39:47,057 - XGBClassifier - accuracy: 0.7966101694915254\n",
      "2022-01-01 14:39:47,102 - LGBMClassifier - accuracy: 0.8135593220338984\n"
     ]
    },
    {
     "name": "stdout",
     "output_type": "stream",
     "text": [
      "[14:39:46] WARNING: /Users/travis/build/dmlc/xgboost/src/learner.cc:1061: Starting in XGBoost 1.3.0, the default evaluation metric used with the objective 'binary:logistic' was changed from 'error' to 'logloss'. Explicitly set eval_metric if you'd like to restore the old behavior.\n"
     ]
    },
    {
     "name": "stderr",
     "output_type": "stream",
     "text": [
      "2022-01-01 14:39:47,887 - CatBoostClassifier - accuracy: 0.8135593220338984\n",
      "2022-01-01 14:39:47,890 - ==================\n",
      "2022-01-01 14:39:47,890 - Best Model SVC with accuracy: 0.847457627118644\n",
      "2022-01-01 14:39:47,891 - ==================\n",
      "2022-01-01 14:39:47,895 - Classification Report\n"
     ]
    },
    {
     "name": "stdout",
     "output_type": "stream",
     "text": [
      "                  precision    recall  f1-score   support\n",
      "\n",
      "   Heart Disease       0.83      0.91      0.87        33\n",
      "No Heart Disease       0.87      0.77      0.82        26\n",
      "\n",
      "        accuracy                           0.85        59\n",
      "       macro avg       0.85      0.84      0.84        59\n",
      "    weighted avg       0.85      0.85      0.85        59\n",
      "\n"
     ]
    }
   ],
   "source": [
    "model.fit(df)"
   ]
  },
  {
   "cell_type": "markdown",
   "metadata": {},
   "source": [
    "## Hyperparameters Tuning"
   ]
  },
  {
   "cell_type": "code",
   "execution_count": 8,
   "metadata": {},
   "outputs": [
    {
     "name": "stderr",
     "output_type": "stream",
     "text": [
      "2022-01-01 14:39:47,950 - Hyperparameter tuning using: {'estimator__gamma': Real(low=0.001, high=1000, prior='log-uniform', transform='identity'), 'estimator__C': Real(low=0.001, high=1000, prior='log-uniform', transform='identity'), 'estimator__kernel': Categorical(categories=('rbf', 'poly', 'sigmoid'), prior=None)}\n"
     ]
    },
    {
     "name": "stdout",
     "output_type": "stream",
     "text": [
      "Fitting 5 folds for each of 1 candidates, totalling 5 fits\n",
      "Fitting 5 folds for each of 1 candidates, totalling 5 fits\n",
      "Fitting 5 folds for each of 1 candidates, totalling 5 fits\n",
      "Fitting 5 folds for each of 1 candidates, totalling 5 fits\n",
      "Fitting 5 folds for each of 1 candidates, totalling 5 fits\n",
      "Fitting 5 folds for each of 1 candidates, totalling 5 fits\n",
      "Fitting 5 folds for each of 1 candidates, totalling 5 fits\n",
      "Fitting 5 folds for each of 1 candidates, totalling 5 fits\n",
      "Fitting 5 folds for each of 1 candidates, totalling 5 fits\n",
      "Fitting 5 folds for each of 1 candidates, totalling 5 fits\n",
      "Fitting 5 folds for each of 1 candidates, totalling 5 fits\n",
      "Fitting 5 folds for each of 1 candidates, totalling 5 fits\n",
      "Fitting 5 folds for each of 1 candidates, totalling 5 fits\n",
      "Fitting 5 folds for each of 1 candidates, totalling 5 fits\n",
      "Fitting 5 folds for each of 1 candidates, totalling 5 fits\n",
      "Fitting 5 folds for each of 1 candidates, totalling 5 fits\n",
      "Fitting 5 folds for each of 1 candidates, totalling 5 fits\n",
      "Fitting 5 folds for each of 1 candidates, totalling 5 fits\n",
      "Fitting 5 folds for each of 1 candidates, totalling 5 fits\n",
      "Fitting 5 folds for each of 1 candidates, totalling 5 fits\n",
      "Fitting 5 folds for each of 1 candidates, totalling 5 fits\n",
      "Fitting 5 folds for each of 1 candidates, totalling 5 fits\n",
      "Fitting 5 folds for each of 1 candidates, totalling 5 fits\n",
      "Fitting 5 folds for each of 1 candidates, totalling 5 fits\n",
      "Fitting 5 folds for each of 1 candidates, totalling 5 fits\n",
      "Fitting 5 folds for each of 1 candidates, totalling 5 fits\n",
      "Fitting 5 folds for each of 1 candidates, totalling 5 fits\n",
      "Fitting 5 folds for each of 1 candidates, totalling 5 fits\n",
      "Fitting 5 folds for each of 1 candidates, totalling 5 fits\n",
      "Fitting 5 folds for each of 1 candidates, totalling 5 fits\n",
      "Fitting 5 folds for each of 1 candidates, totalling 5 fits\n",
      "Fitting 5 folds for each of 1 candidates, totalling 5 fits\n",
      "Fitting 5 folds for each of 1 candidates, totalling 5 fits\n",
      "Fitting 5 folds for each of 1 candidates, totalling 5 fits\n",
      "Fitting 5 folds for each of 1 candidates, totalling 5 fits\n",
      "Fitting 5 folds for each of 1 candidates, totalling 5 fits\n",
      "Fitting 5 folds for each of 1 candidates, totalling 5 fits\n",
      "Fitting 5 folds for each of 1 candidates, totalling 5 fits\n",
      "Fitting 5 folds for each of 1 candidates, totalling 5 fits\n",
      "Fitting 5 folds for each of 1 candidates, totalling 5 fits\n",
      "Fitting 5 folds for each of 1 candidates, totalling 5 fits\n",
      "Fitting 5 folds for each of 1 candidates, totalling 5 fits\n",
      "Fitting 5 folds for each of 1 candidates, totalling 5 fits\n",
      "Fitting 5 folds for each of 1 candidates, totalling 5 fits\n",
      "Fitting 5 folds for each of 1 candidates, totalling 5 fits\n",
      "Fitting 5 folds for each of 1 candidates, totalling 5 fits\n",
      "Fitting 5 folds for each of 1 candidates, totalling 5 fits\n",
      "Fitting 5 folds for each of 1 candidates, totalling 5 fits\n",
      "Fitting 5 folds for each of 1 candidates, totalling 5 fits\n",
      "Fitting 5 folds for each of 1 candidates, totalling 5 fits\n"
     ]
    },
    {
     "name": "stderr",
     "output_type": "stream",
     "text": [
      "2022-01-01 14:41:14,811 - Best Params: OrderedDict([('estimator__C', 24.55385695357975), ('estimator__gamma', 0.001), ('estimator__kernel', 'rbf')])\n",
      "2022-01-01 14:41:14,826 - Classification Report\n"
     ]
    },
    {
     "name": "stdout",
     "output_type": "stream",
     "text": [
      "                  precision    recall  f1-score   support\n",
      "\n",
      "   Heart Disease       0.83      0.91      0.87        33\n",
      "No Heart Disease       0.87      0.77      0.82        26\n",
      "\n",
      "        accuracy                           0.85        59\n",
      "       macro avg       0.85      0.84      0.84        59\n",
      "    weighted avg       0.85      0.85      0.85        59\n",
      "\n"
     ]
    }
   ],
   "source": [
    "model.hp_tuning(\n",
    "    search=\"bayes\",\n",
    "    params=None, # using recommendation from simager, you can specified if you want\n",
    "    n_jobs=None,\n",
    "    cv=5,\n",
    "    verbose=1\n",
    ")\n",
    "\n",
    "# Args:\n",
    "#     search(str, optional): Searching method to run hyperparameters tunning. Default to `bayes`\n",
    "#         `bayes` (BayesSearchCV): Bayesian optimization over hyper parameters.\n",
    "#         `grid` (GridSearchCV): Grid optimization over hyper parameters.\n",
    "\n",
    "#     params (dict, optional): Parameters tunning, default to None\n",
    "#         If None, parameter will be use recommendation from simager\n",
    "\n",
    "#     n_jobs (int, optional): Number of jobs to run in parallel. Default to None\n",
    "#         If None, means that (cpu_count - 1)\n",
    "\n",
    "#     cv (int, optional): Determines the cross-validation splitting strategy. Defaults to 5\n",
    "\n",
    "#     return_model (bool, optional): Return model object. Default to False\n",
    "\n",
    "#     verbose (int, optional): Controls the verbosity: the higher, the more messages. Default to 0\n",
    "#         Values: 0-3"
   ]
  },
  {
   "cell_type": "code",
   "execution_count": 9,
   "metadata": {},
   "outputs": [
    {
     "data": {
      "image/png": "[encoded data removed]",
      "text/plain": [
       "<Figure size 1080x360 with 1 Axes>"
      ]
     },
     "metadata": {
      "needs_background": "light"
     },
     "output_type": "display_data"
    }
   ],
   "source": [
    "# Calculate features importance from the best model\n",
    "model.features_importance()"
   ]
  },
  {
   "cell_type": "code",
   "execution_count": 10,
   "metadata": {},
   "outputs": [
    {
     "data": {
      "image/png": "[encoded data removed]",
      "text/plain": [
       "<Figure size 432x288 with 2 Axes>"
      ]
     },
     "metadata": {
      "needs_background": "light"
     },
     "output_type": "display_data"
    }
   ],
   "source": [
    "# Calculate confusion matrix from the best model\n",
    "model.confusion_matrix()"
   ]
  },
  {
   "cell_type": "code",
   "execution_count": 11,
   "metadata": {},
   "outputs": [],
   "source": [
    "# Save model\n",
    "model.save(\"model/best_model.pkl\")\n",
    "\n",
    "# Args:\n",
    "#     model_path (str, optional): Path to file model name, default to `model/best_model.pkl`"
   ]
  },
  {
   "cell_type": "code",
   "execution_count": 12,
   "metadata": {},
   "outputs": [],
   "source": [
    "# Load model\n",
    "model = load_model(\"model/best_model.pkl\")"
   ]
  },
  {
   "cell_type": "code",
   "execution_count": null,
   "metadata": {},
   "outputs": [],
   "source": []
  }
 ],
 "metadata": {
  "kernelspec": {
   "display_name": "Python 3",
   "language": "python",
   "name": "python3"
  },
  "language_info": {
   "codemirror_mode": {
    "name": "ipython",
    "version": 3
   },
   "file_extension": ".py",
   "mimetype": "text/x-python",
   "name": "python",
   "nbconvert_exporter": "python",
   "pygments_lexer": "ipython3",
   "version": "3.7.5"
  }
 },
 "nbformat": 4,
 "nbformat_minor": 2
}
