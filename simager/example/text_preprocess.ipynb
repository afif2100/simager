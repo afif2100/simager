{
 "cells": [
  {
   "cell_type": "code",
   "execution_count": 1,
   "metadata": {},
   "outputs": [],
   "source": [
    "from simager.preprocess import TextPreprocess"
   ]
  },
  {
   "cell_type": "code",
   "execution_count": 2,
   "metadata": {},
   "outputs": [],
   "source": [
    "method = [\n",
    "    \"rm_hastag\", # \"ini adalah contoh #hastag\" --> 'ini adalah contoh '\n",
    "    \"rm_mention\", # \"ini adalah contoh @mention\" --> 'ini adalah contoh '\n",
    "    \"rm_nonascii\", # \"ini adalah contoh .(朱惠英) d\\xe5\" --> 'ini adalah contoh .() da'\n",
    "    \"rm_emoticons\", # \"ini adalah contoh 😂\" --> 'ini adalah contoh '\n",
    "    \"rm_html\", # '''<html><body>ini adalah contoh</body></html>''' --> 'ini adalah contoh'\n",
    "    \"rm_url\", # \"ini adalah contoh url http://google.com\" --> 'ini adalah contoh url '\n",
    "    \"sparate_str_numb\", # \"ini adalah angka3\" --> 'ini adalah angka 3'\n",
    "    \"pad_punct\", # \"ini adalah contoh.saya\" --> 'ini adalah contoh. saya'\n",
    "    \"rm_punct\", # \"$ ini *adalah contoh\" --> ' ini adalah contoh'\n",
    "    \"rm_repeat_char\", # \"ini adalah contohhhhhhhhhhhh\" --> 'ini adalah contohh'\n",
    "    \"rm_repeat_word\", # \"ini ini ini ini ini ini adalah contoh\" --> 'ini ini adalah contoh'\n",
    "    \"rm_numb\", # \"ini adalah contoh 123\" --> 'ini adalah contoh '\n",
    "    \"rm_whitespace\", # \"    ini     adalah contoh   \" --> 'ini adalah contoh'\n",
    "    \"normalize\", # \"yg dg\" --> 'yang dengan'\n",
    "    \"stopwords\" # \"ini adalah contoh stopword\" --> 'stopword'\n",
    "]\n",
    "\n",
    "cleaner = TextPreprocess(methods=method)\n",
    "\n",
    "# Args:\n",
    "#     methods (list, optional): All sequence of cleaner methods. Defaults to `all`\n",
    "#         `all` methods not included `normalize` and `stopwords` method, you can put it manually\n",
    "#         Default values:\n",
    "#             [\n",
    "#                 \"rm_hastag\",\n",
    "#                 \"rm_mention\",\n",
    "#                 \"rm_nonascii\",\n",
    "#                 \"rm_emoticons\",\n",
    "#                 \"rm_html\",\n",
    "#                 \"rm_url\",\n",
    "#                 \"sparate_str_numb\",\n",
    "#                 \"pad_punct\",\n",
    "#                 \"rm_punct\",\n",
    "#                 \"rm_repeat_char\",\n",
    "#                 \"rm_repeat_word\",\n",
    "#                 \"rm_numb\",\n",
    "#                 \"rm_whitespace\"\n",
    "#             ]"
   ]
  },
  {
   "cell_type": "code",
   "execution_count": 3,
   "metadata": {},
   "outputs": [
    {
     "data": {
      "text/plain": [
       "'your text'"
      ]
     },
     "execution_count": 3,
     "metadata": {},
     "output_type": "execute_result"
    }
   ],
   "source": [
    "cleaner(\"your text here\")"
   ]
  },
  {
   "cell_type": "markdown",
   "metadata": {},
   "source": [
    "### Add new normalizer dictionary"
   ]
  },
  {
   "cell_type": "code",
   "execution_count": 4,
   "metadata": {},
   "outputs": [],
   "source": [
    "cleaner.add_normalizer({\n",
    "    \"abc\": \"ini contoh abc\",\n",
    "    \"test\": \"ini test lagi\"\n",
    "})"
   ]
  },
  {
   "cell_type": "code",
   "execution_count": 5,
   "metadata": {},
   "outputs": [
    {
     "data": {
      "text/plain": [
       "'ini contoh abc'"
      ]
     },
     "execution_count": 5,
     "metadata": {},
     "output_type": "execute_result"
    }
   ],
   "source": [
    "cleaner(\"abc\")"
   ]
  },
  {
   "cell_type": "markdown",
   "metadata": {},
   "source": [
    "### Remove normalizer from dictionary"
   ]
  },
  {
   "cell_type": "code",
   "execution_count": 6,
   "metadata": {},
   "outputs": [],
   "source": [
    "cleaner.remove_normalizer([\"abc\", \"test\"])"
   ]
  },
  {
   "cell_type": "code",
   "execution_count": 7,
   "metadata": {},
   "outputs": [
    {
     "data": {
      "text/plain": [
       "'abc test'"
      ]
     },
     "execution_count": 7,
     "metadata": {},
     "output_type": "execute_result"
    }
   ],
   "source": [
    "cleaner(\"abc test\")"
   ]
  },
  {
   "cell_type": "markdown",
   "metadata": {},
   "source": [
    "### Add new stopwords dictionary"
   ]
  },
  {
   "cell_type": "code",
   "execution_count": 8,
   "metadata": {},
   "outputs": [],
   "source": [
    "cleaner.add_stopwords([\"abc\", \"test\"])"
   ]
  },
  {
   "cell_type": "code",
   "execution_count": 9,
   "metadata": {},
   "outputs": [
    {
     "data": {
      "text/plain": [
       "'remove'"
      ]
     },
     "execution_count": 9,
     "metadata": {},
     "output_type": "execute_result"
    }
   ],
   "source": [
    "cleaner('remove abc test')"
   ]
  },
  {
   "cell_type": "markdown",
   "metadata": {},
   "source": [
    "### Remove stopwords from dictionary"
   ]
  },
  {
   "cell_type": "code",
   "execution_count": 10,
   "metadata": {},
   "outputs": [],
   "source": [
    "cleaner.remove_stopwords([\"abc\", \"test\"])"
   ]
  },
  {
   "cell_type": "code",
   "execution_count": 11,
   "metadata": {},
   "outputs": [
    {
     "data": {
      "text/plain": [
       "'remove abc test'"
      ]
     },
     "execution_count": 11,
     "metadata": {},
     "output_type": "execute_result"
    }
   ],
   "source": [
    "cleaner('remove abc test')"
   ]
  },
  {
   "cell_type": "code",
   "execution_count": null,
   "metadata": {},
   "outputs": [],
   "source": []
  }
 ],
 "metadata": {
  "kernelspec": {
   "display_name": "Python 3",
   "language": "python",
   "name": "python3"
  },
  "language_info": {
   "codemirror_mode": {
    "name": "ipython",
    "version": 3
   },
   "file_extension": ".py",
   "mimetype": "text/x-python",
   "name": "python",
   "nbconvert_exporter": "python",
   "pygments_lexer": "ipython3",
   "version": "3.7.5"
  }
 },
 "nbformat": 4,
 "nbformat_minor": 2
}
